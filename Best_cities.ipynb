{
 "cells": [
  {
   "cell_type": "markdown",
   "metadata": {
    "colab_type": "text",
    "id": "hxVLQcfegi2z"
   },
   "source": [
    "# Introduction\n",
    "\n",
    "We are looking for quantitative criteria to distinguish best cities in the world for life quality.\n",
    "We will be using the API <a href=\"https://developers.teleport.org/api/getting_started/\" target=\"_blank\">Teleport</a> documentation \n",
    "\n",
    "- <a href=\"https://developers.teleport.org/api/getting_started/\" target=\"_blank\">documentation Teleport API</a>\n",
    "\n",
    "We will also need to use a website called RandomList.com that will give us a random cities around the world to get a scoring. \n",
    "All the data will be stored in a public S3 bucket.\n"
   ]
  },
  {
   "cell_type": "markdown",
   "metadata": {
    "colab_type": "text",
    "id": "aj9WjfGxICJI"
   },
   "source": [
    "## Part 1: Get data for 1 City "
   ]
  },
  {
   "cell_type": "code",
   "execution_count": 2,
   "metadata": {
    "colab": {},
    "colab_type": "code",
    "id": "UJOVO8rAduG5"
   },
   "outputs": [],
   "source": [
    "import requests"
   ]
  },
  {
   "cell_type": "code",
   "execution_count": 3,
   "metadata": {
    "colab": {
     "base_uri": "https://localhost:8080/",
     "height": 34
    },
    "colab_type": "code",
    "executionInfo": {
     "elapsed": 514,
     "status": "ok",
     "timestamp": 1576164583531,
     "user": {
      "displayName": "Antoine Krajnc",
      "photoUrl": "https://lh3.googleusercontent.com/a-/AAuE7mC4XzNDVGvURzl4T5duDbMr6bUdhkYkDul_37G0OA=s64",
      "userId": "08465960390418158788"
     },
     "user_tz": -60
    },
    "id": "yJUETL9Fhdzf",
    "outputId": "6252424b-7cec-4931-8a14-c7a42e2b24c5"
   },
   "outputs": [
    {
     "data": {
      "text/plain": [
       "<Response [200]>"
      ]
     },
     "execution_count": 3,
     "metadata": {},
     "output_type": "execute_result"
    }
   ],
   "source": [
    "response = requests.get(\" https://api.teleport.org/api/cities/?search=Paris\")\n",
    "response"
   ]
  },
  {
   "cell_type": "markdown",
   "metadata": {
    "colab_type": "text",
    "id": "cSDu5yUfJJRq"
   },
   "source": [
    "We get lot of results, only the first [0] element is relevant"
   ]
  },
  {
   "cell_type": "code",
   "execution_count": 4,
   "metadata": {
    "colab": {
     "base_uri": "https://localhost:8080/",
     "height": 1000
    },
    "colab_type": "code",
    "executionInfo": {
     "elapsed": 470,
     "status": "ok",
     "timestamp": 1576164789281,
     "user": {
      "displayName": "Antoine Krajnc",
      "photoUrl": "https://lh3.googleusercontent.com/a-/AAuE7mC4XzNDVGvURzl4T5duDbMr6bUdhkYkDul_37G0OA=s64",
      "userId": "08465960390418158788"
     },
     "user_tz": -60
    },
    "id": "LCckwB39lvPE",
    "outputId": "919402c2-9fdb-49fb-a811-39366a7d0283"
   },
   "outputs": [
    {
     "data": {
      "text/plain": [
       "{'_embedded': {'city:search-results': [{'_links': {'city:item': {'href': 'https://api.teleport.org/api/cities/geonameid:2988507/'}},\n",
       "    'matching_alternate_names': [{'name': 'Paris'},\n",
       "     {'name': 'paris'},\n",
       "     {'name': 'Parisi'}],\n",
       "    'matching_full_name': 'Paris, Île-de-France, France'},\n",
       "   {'_links': {'city:item': {'href': 'https://api.teleport.org/api/cities/geonameid:4717560/'}},\n",
       "    'matching_alternate_names': [{'name': 'Paris'}],\n",
       "    'matching_full_name': 'Paris, Texas, United States'},\n",
       "   {'_links': {'city:item': {'href': 'https://api.teleport.org/api/cities/geonameid:3489854/'}},\n",
       "    'matching_alternate_names': [],\n",
       "    'matching_full_name': 'Kingston, Kingston, Jamaica'},\n",
       "   {'_links': {'city:item': {'href': 'https://api.teleport.org/api/cities/geonameid:966166/'}},\n",
       "    'matching_alternate_names': [{'name': 'Paris'}],\n",
       "    'matching_full_name': 'Parys, Orange Free State, South Africa (Paris)'},\n",
       "   {'_links': {'city:item': {'href': 'https://api.teleport.org/api/cities/geonameid:3489297/'}},\n",
       "    'matching_alternate_names': [],\n",
       "    'matching_full_name': 'New Kingston, St. Andrew, Jamaica'},\n",
       "   {'_links': {'city:item': {'href': 'https://api.teleport.org/api/cities/geonameid:6942553/'}},\n",
       "    'matching_alternate_names': [{'name': 'Paris'}],\n",
       "    'matching_full_name': 'Paris, Ontario, Canada'},\n",
       "   {'_links': {'city:item': {'href': 'https://api.teleport.org/api/cities/geonameid:4647963/'}},\n",
       "    'matching_alternate_names': [{'name': 'Paris'}],\n",
       "    'matching_full_name': 'Paris, Tennessee, United States'},\n",
       "   {'_links': {'city:item': {'href': 'https://api.teleport.org/api/cities/geonameid:4303602/'}},\n",
       "    'matching_alternate_names': [{'name': 'Paris'}],\n",
       "    'matching_full_name': 'Paris, Kentucky, United States'},\n",
       "   {'_links': {'city:item': {'href': 'https://api.teleport.org/api/cities/geonameid:4246659/'}},\n",
       "    'matching_alternate_names': [{'name': 'Paris'}],\n",
       "    'matching_full_name': 'Paris, Illinois, United States'},\n",
       "   {'_links': {'city:item': {'href': 'https://api.teleport.org/api/cities/geonameid:4974617/'}},\n",
       "    'matching_alternate_names': [{'name': 'Paris'},\n",
       "     {'name': 'Paris Hill'},\n",
       "     {'name': 'parisu'}],\n",
       "    'matching_full_name': 'Paris, Maine, United States'},\n",
       "   {'_links': {'city:item': {'href': 'https://api.teleport.org/api/cities/geonameid:8504417/'}},\n",
       "    'matching_alternate_names': [{'name': 'Paris La Defense'}],\n",
       "    'matching_full_name': 'La Defense, Île-de-France, France (Paris La Defense)'},\n",
       "   {'_links': {'city:item': {'href': 'https://api.teleport.org/api/cities/geonameid:1694660/'}},\n",
       "    'matching_alternate_names': [{'name': 'Parista'}],\n",
       "    'matching_full_name': 'Parista, Central Luzon, Philippines'},\n",
       "   {'_links': {'city:item': {'href': 'https://api.teleport.org/api/cities/geonameid:4125402/'}},\n",
       "    'matching_alternate_names': [{'name': 'Paris'}],\n",
       "    'matching_full_name': 'Paris, Arkansas, United States'},\n",
       "   {'_links': {'city:item': {'href': 'https://api.teleport.org/api/cities/geonameid:3488465/'}},\n",
       "    'matching_alternate_names': [],\n",
       "    'matching_full_name': 'Spanish Town, Saint Catherine, Jamaica'},\n",
       "   {'_links': {'city:item': {'href': 'https://api.teleport.org/api/cities/geonameid:3488981/'}},\n",
       "    'matching_alternate_names': [],\n",
       "    'matching_full_name': 'Portmore, Saint Catherine, Jamaica'},\n",
       "   {'_links': {'city:item': {'href': 'https://api.teleport.org/api/cities/geonameid:3489460/'}},\n",
       "    'matching_alternate_names': [],\n",
       "    'matching_full_name': 'Montego Bay, St. James, Jamaica'},\n",
       "   {'_links': {'city:item': {'href': 'https://api.teleport.org/api/cities/geonameid:4225346/'}},\n",
       "    'matching_alternate_names': [{'name': 'Paris'}],\n",
       "    'matching_full_name': 'Swainsboro, Georgia, United States (Paris)'},\n",
       "   {'_links': {'city:item': {'href': 'https://api.teleport.org/api/cities/geonameid:4432542/'}},\n",
       "    'matching_alternate_names': [{'name': 'Paris'}],\n",
       "    'matching_full_name': 'Kosciusko, Mississippi, United States (Paris)'},\n",
       "   {'_links': {'city:item': {'href': 'https://api.teleport.org/api/cities/geonameid:6098747/'}},\n",
       "    'matching_alternate_names': [{'name': 'parisaundo'}],\n",
       "    'matching_full_name': 'Parry Sound, Ontario, Canada (parisaundo)'},\n",
       "   {'_links': {'city:item': {'href': 'https://api.teleport.org/api/cities/geonameid:4402452/'}},\n",
       "    'matching_alternate_names': [{'name': 'Paris'}],\n",
       "    'matching_full_name': 'Paris, Missouri, United States'},\n",
       "   {'_links': {'city:item': {'href': 'https://api.teleport.org/api/cities/geonameid:2999139/'}},\n",
       "    'matching_alternate_names': [{'name': 'Paris-Plage'}],\n",
       "    'matching_full_name': 'Le Touquet-Paris-Plage, Hauts-de-France, France (Paris-Plage)'},\n",
       "   {'_links': {'city:item': {'href': 'https://api.teleport.org/api/cities/geonameid:3489577/'}},\n",
       "    'matching_alternate_names': [],\n",
       "    'matching_full_name': 'Mandeville, Manchester, Jamaica'},\n",
       "   {'_links': {'city:item': {'href': 'https://api.teleport.org/api/cities/geonameid:3489523/'}},\n",
       "    'matching_alternate_names': [],\n",
       "    'matching_full_name': 'May Pen, Clarendon, Jamaica'},\n",
       "   {'_links': {'city:item': {'href': 'https://api.teleport.org/api/cities/geonameid:3489227/'}},\n",
       "    'matching_alternate_names': [],\n",
       "    'matching_full_name': 'Old Harbour, Saint Catherine, Jamaica'},\n",
       "   {'_links': {'city:item': {'href': 'https://api.teleport.org/api/cities/geonameid:5603240/'}},\n",
       "    'matching_alternate_names': [{'name': 'Paris'}],\n",
       "    'matching_full_name': 'Paris, Idaho, United States'}]},\n",
       " '_links': {'curies': [{'href': 'https://developers.teleport.org/api/resources/Location/#!/relations/{rel}/',\n",
       "    'name': 'location',\n",
       "    'templated': True},\n",
       "   {'href': 'https://developers.teleport.org/api/resources/City/#!/relations/{rel}/',\n",
       "    'name': 'city',\n",
       "    'templated': True},\n",
       "   {'href': 'https://developers.teleport.org/api/resources/UrbanArea/#!/relations/{rel}/',\n",
       "    'name': 'ua',\n",
       "    'templated': True},\n",
       "   {'href': 'https://developers.teleport.org/api/resources/Country/#!/relations/{rel}/',\n",
       "    'name': 'country',\n",
       "    'templated': True},\n",
       "   {'href': 'https://developers.teleport.org/api/resources/Admin1Division/#!/relations/{rel}/',\n",
       "    'name': 'a1',\n",
       "    'templated': True},\n",
       "   {'href': 'https://developers.teleport.org/api/resources/Timezone/#!/relations/{rel}/',\n",
       "    'name': 'tz',\n",
       "    'templated': True}],\n",
       "  'self': {'href': 'https://api.teleport.org/api/cities/?search=Paris&geohash='}},\n",
       " 'count': 25}"
      ]
     },
     "execution_count": 4,
     "metadata": {},
     "output_type": "execute_result"
    }
   ],
   "source": [
    "response.json()"
   ]
  },
  {
   "cell_type": "code",
   "execution_count": 5,
   "metadata": {},
   "outputs": [
    {
     "data": {
      "text/plain": [
       "dict_keys(['_embedded', '_links', 'count'])"
      ]
     },
     "execution_count": 5,
     "metadata": {},
     "output_type": "execute_result"
    }
   ],
   "source": [
    "response.json().keys()"
   ]
  },
  {
   "cell_type": "code",
   "execution_count": 6,
   "metadata": {},
   "outputs": [
    {
     "data": {
      "text/plain": [
       "dict_keys(['city:search-results'])"
      ]
     },
     "execution_count": 6,
     "metadata": {},
     "output_type": "execute_result"
    }
   ],
   "source": [
    "response.json()['_embedded'].keys()"
   ]
  },
  {
   "cell_type": "code",
   "execution_count": 7,
   "metadata": {
    "colab": {
     "base_uri": "https://localhost:8080/",
     "height": 34
    },
    "colab_type": "code",
    "executionInfo": {
     "elapsed": 527,
     "status": "ok",
     "timestamp": 1576165621157,
     "user": {
      "displayName": "Antoine Krajnc",
      "photoUrl": "https://lh3.googleusercontent.com/a-/AAuE7mC4XzNDVGvURzl4T5duDbMr6bUdhkYkDul_37G0OA=s64",
      "userId": "08465960390418158788"
     },
     "user_tz": -60
    },
    "id": "ovuJoYQxnK_D",
    "outputId": "3847266b-01e8-45fc-f569-14da31ff022a"
   },
   "outputs": [
    {
     "data": {
      "text/plain": [
       "'https://api.teleport.org/api/cities/geonameid:2988507/'"
      ]
     },
     "execution_count": 7,
     "metadata": {},
     "output_type": "execute_result"
    }
   ],
   "source": [
    "first_result = response.json()[\"_embedded\"][\"city:search-results\"][0]\n",
    "paris_link = first_result[\"_links\"][\"city:item\"][\"href\"]\n",
    "paris_link"
   ]
  },
  {
   "cell_type": "code",
   "execution_count": 8,
   "metadata": {
    "colab": {
     "base_uri": "https://localhost:8080/",
     "height": 595
    },
    "colab_type": "code",
    "executionInfo": {
     "elapsed": 454,
     "status": "ok",
     "timestamp": 1576165630383,
     "user": {
      "displayName": "Antoine Krajnc",
      "photoUrl": "https://lh3.googleusercontent.com/a-/AAuE7mC4XzNDVGvURzl4T5duDbMr6bUdhkYkDul_37G0OA=s64",
      "userId": "08465960390418158788"
     },
     "user_tz": -60
    },
    "id": "mFIKzq8Popxm",
    "outputId": "4a0f06dd-ebc9-4b5a-9f65-3d00b43123d9"
   },
   "outputs": [
    {
     "data": {
      "text/plain": [
       "{'_links': {'city:admin1_division': {'href': 'https://api.teleport.org/api/countries/iso_alpha2:FR/admin1_divisions/geonames:11/',\n",
       "   'name': 'Île-de-France'},\n",
       "  'city:alternate-names': {'href': 'https://api.teleport.org/api/cities/geonameid:2988507/alternate_names/'},\n",
       "  'city:country': {'href': 'https://api.teleport.org/api/countries/iso_alpha2:FR/',\n",
       "   'name': 'France'},\n",
       "  'city:timezone': {'href': 'https://api.teleport.org/api/timezones/iana:Europe%2FParis/',\n",
       "   'name': 'Europe/Paris'},\n",
       "  'city:urban_area': {'href': 'https://api.teleport.org/api/urban_areas/slug:paris/',\n",
       "   'name': 'Paris'},\n",
       "  'curies': [{'href': 'https://developers.teleport.org/api/resources/Location/#!/relations/{rel}/',\n",
       "    'name': 'location',\n",
       "    'templated': True},\n",
       "   {'href': 'https://developers.teleport.org/api/resources/City/#!/relations/{rel}/',\n",
       "    'name': 'city',\n",
       "    'templated': True},\n",
       "   {'href': 'https://developers.teleport.org/api/resources/UrbanArea/#!/relations/{rel}/',\n",
       "    'name': 'ua',\n",
       "    'templated': True},\n",
       "   {'href': 'https://developers.teleport.org/api/resources/Country/#!/relations/{rel}/',\n",
       "    'name': 'country',\n",
       "    'templated': True},\n",
       "   {'href': 'https://developers.teleport.org/api/resources/Admin1Division/#!/relations/{rel}/',\n",
       "    'name': 'a1',\n",
       "    'templated': True},\n",
       "   {'href': 'https://developers.teleport.org/api/resources/Timezone/#!/relations/{rel}/',\n",
       "    'name': 'tz',\n",
       "    'templated': True}],\n",
       "  'self': {'href': 'https://api.teleport.org/api/cities/geonameid:2988507/'}},\n",
       " 'full_name': 'Paris, Île-de-France, France',\n",
       " 'geoname_id': 2988507,\n",
       " 'location': {'geohash': 'u09tvmqrep8np02g7x9y',\n",
       "  'latlon': {'latitude': 48.85341, 'longitude': 2.3488}},\n",
       " 'name': 'Paris',\n",
       " 'population': 2138551}"
      ]
     },
     "execution_count": 8,
     "metadata": {},
     "output_type": "execute_result"
    }
   ],
   "source": [
    "paris_info = requests.get(paris_link)\n",
    "paris_info.json()"
   ]
  },
  {
   "cell_type": "code",
   "execution_count": 9,
   "metadata": {
    "colab": {
     "base_uri": "https://localhost:8080/",
     "height": 34
    },
    "colab_type": "code",
    "executionInfo": {
     "elapsed": 647,
     "status": "ok",
     "timestamp": 1576165698786,
     "user": {
      "displayName": "Antoine Krajnc",
      "photoUrl": "https://lh3.googleusercontent.com/a-/AAuE7mC4XzNDVGvURzl4T5duDbMr6bUdhkYkDul_37G0OA=s64",
      "userId": "08465960390418158788"
     },
     "user_tz": -60
    },
    "id": "2eZac7brxHpG",
    "outputId": "9e6c0a9f-8647-4546-f831-4f99a3e601e0"
   },
   "outputs": [
    {
     "data": {
      "text/plain": [
       "<Response [200]>"
      ]
     },
     "execution_count": 9,
     "metadata": {},
     "output_type": "execute_result"
    }
   ],
   "source": [
    "paris_scores = requests.get(paris_info.json()[\"_links\"][\"city:urban_area\"][\"href\"]+\"scores/\")\n",
    "paris_scores"
   ]
  },
  {
   "cell_type": "code",
   "execution_count": 10,
   "metadata": {
    "colab": {
     "base_uri": "https://localhost:8080/",
     "height": 955
    },
    "colab_type": "code",
    "executionInfo": {
     "elapsed": 578,
     "status": "ok",
     "timestamp": 1576165701060,
     "user": {
      "displayName": "Antoine Krajnc",
      "photoUrl": "https://lh3.googleusercontent.com/a-/AAuE7mC4XzNDVGvURzl4T5duDbMr6bUdhkYkDul_37G0OA=s64",
      "userId": "08465960390418158788"
     },
     "user_tz": -60
    },
    "id": "LOCdCGnmxmCl",
    "outputId": "57210ea5-e785-49f8-8490-4ef76d332f6c"
   },
   "outputs": [
    {
     "data": {
      "text/plain": [
       "{'_links': {'curies': [{'href': 'https://developers.teleport.org/api/resources/Location/#!/relations/{rel}/',\n",
       "    'name': 'location',\n",
       "    'templated': True},\n",
       "   {'href': 'https://developers.teleport.org/api/resources/City/#!/relations/{rel}/',\n",
       "    'name': 'city',\n",
       "    'templated': True},\n",
       "   {'href': 'https://developers.teleport.org/api/resources/UrbanArea/#!/relations/{rel}/',\n",
       "    'name': 'ua',\n",
       "    'templated': True},\n",
       "   {'href': 'https://developers.teleport.org/api/resources/Country/#!/relations/{rel}/',\n",
       "    'name': 'country',\n",
       "    'templated': True},\n",
       "   {'href': 'https://developers.teleport.org/api/resources/Admin1Division/#!/relations/{rel}/',\n",
       "    'name': 'a1',\n",
       "    'templated': True},\n",
       "   {'href': 'https://developers.teleport.org/api/resources/Timezone/#!/relations/{rel}/',\n",
       "    'name': 'tz',\n",
       "    'templated': True}],\n",
       "  'self': {'href': 'https://api.teleport.org/api/urban_areas/slug:paris/scores/'}},\n",
       " 'categories': [{'color': '#f3c32c',\n",
       "   'name': 'Housing',\n",
       "   'score_out_of_10': 3.5835},\n",
       "  {'color': '#f3d630', 'name': 'Cost of Living', 'score_out_of_10': 3.664},\n",
       "  {'color': '#f4eb33', 'name': 'Startups', 'score_out_of_10': 9.2765},\n",
       "  {'color': '#d2ed31',\n",
       "   'name': 'Venture Capital',\n",
       "   'score_out_of_10': 7.513000000000001},\n",
       "  {'color': '#7adc29', 'name': 'Travel Connectivity', 'score_out_of_10': 10.0},\n",
       "  {'color': '#36cc24',\n",
       "   'name': 'Commute',\n",
       "   'score_out_of_10': 5.330500000000001},\n",
       "  {'color': '#19ad51',\n",
       "   'name': 'Business Freedom',\n",
       "   'score_out_of_10': 8.088333333333333},\n",
       "  {'color': '#0d6999', 'name': 'Safety', 'score_out_of_10': 6.2465},\n",
       "  {'color': '#051fa5',\n",
       "   'name': 'Healthcare',\n",
       "   'score_out_of_10': 8.756999999999998},\n",
       "  {'color': '#150e78', 'name': 'Education', 'score_out_of_10': 7.085},\n",
       "  {'color': '#3d14a4',\n",
       "   'name': 'Environmental Quality',\n",
       "   'score_out_of_10': 4.36225},\n",
       "  {'color': '#5c14a1', 'name': 'Economy', 'score_out_of_10': 4.2045},\n",
       "  {'color': '#88149f',\n",
       "   'name': 'Taxation',\n",
       "   'score_out_of_10': 2.6480000000000006},\n",
       "  {'color': '#b9117d',\n",
       "   'name': 'Internet Access',\n",
       "   'score_out_of_10': 9.716000000000001},\n",
       "  {'color': '#d10d54', 'name': 'Leisure & Culture', 'score_out_of_10': 9.8165},\n",
       "  {'color': '#e70c26', 'name': 'Tolerance', 'score_out_of_10': 5.579},\n",
       "  {'color': '#f1351b', 'name': 'Outdoors', 'score_out_of_10': 4.433}],\n",
       " 'summary': '<p>\\n    Paris, the most visited city in the world, is a historical, cultural and esthetic gem that has played a major role in European history for centuries. Its <b>overwhelming beauty</b>, architectural wonders and national <b>cuisine</b> call to people from around the world, adding to its\\xa0exciting and <b>diverse environment</b>.\\xa0As a global <b>economic center</b>, Paris offers opportunities in a wide range of industries and business markets.\\n</p>\\n\\n\\n    <p>Paris is one of the top ten city matches for 9.5% of Teleport users.</p>\\n',\n",
       " 'teleport_city_score': 64.78743243243241}"
      ]
     },
     "execution_count": 10,
     "metadata": {},
     "output_type": "execute_result"
    }
   ],
   "source": [
    "paris_scores.json()"
   ]
  },
  {
   "cell_type": "code",
   "execution_count": 11,
   "metadata": {
    "colab": {
     "base_uri": "https://localhost:8080/",
     "height": 204
    },
    "colab_type": "code",
    "executionInfo": {
     "elapsed": 1076,
     "status": "ok",
     "timestamp": 1576166497901,
     "user": {
      "displayName": "Antoine Krajnc",
      "photoUrl": "https://lh3.googleusercontent.com/a-/AAuE7mC4XzNDVGvURzl4T5duDbMr6bUdhkYkDul_37G0OA=s64",
      "userId": "08465960390418158788"
     },
     "user_tz": -60
    },
    "id": "WEwQ79D6xoYJ",
    "outputId": "48915434-b83c-479d-a0f7-a4d04b4c13a0"
   },
   "outputs": [
    {
     "data": {
      "text/html": [
       "<div>\n",
       "<style scoped>\n",
       "    .dataframe tbody tr th:only-of-type {\n",
       "        vertical-align: middle;\n",
       "    }\n",
       "\n",
       "    .dataframe tbody tr th {\n",
       "        vertical-align: top;\n",
       "    }\n",
       "\n",
       "    .dataframe thead th {\n",
       "        text-align: right;\n",
       "    }\n",
       "</style>\n",
       "<table border=\"1\" class=\"dataframe\">\n",
       "  <thead>\n",
       "    <tr style=\"text-align: right;\">\n",
       "      <th></th>\n",
       "      <th>color</th>\n",
       "      <th>name</th>\n",
       "      <th>score_out_of_10</th>\n",
       "    </tr>\n",
       "  </thead>\n",
       "  <tbody>\n",
       "    <tr>\n",
       "      <th>0</th>\n",
       "      <td>#f3c32c</td>\n",
       "      <td>Housing</td>\n",
       "      <td>3.583500</td>\n",
       "    </tr>\n",
       "    <tr>\n",
       "      <th>1</th>\n",
       "      <td>#f3d630</td>\n",
       "      <td>Cost of Living</td>\n",
       "      <td>3.664000</td>\n",
       "    </tr>\n",
       "    <tr>\n",
       "      <th>2</th>\n",
       "      <td>#f4eb33</td>\n",
       "      <td>Startups</td>\n",
       "      <td>9.276500</td>\n",
       "    </tr>\n",
       "    <tr>\n",
       "      <th>3</th>\n",
       "      <td>#d2ed31</td>\n",
       "      <td>Venture Capital</td>\n",
       "      <td>7.513000</td>\n",
       "    </tr>\n",
       "    <tr>\n",
       "      <th>4</th>\n",
       "      <td>#7adc29</td>\n",
       "      <td>Travel Connectivity</td>\n",
       "      <td>10.000000</td>\n",
       "    </tr>\n",
       "    <tr>\n",
       "      <th>5</th>\n",
       "      <td>#36cc24</td>\n",
       "      <td>Commute</td>\n",
       "      <td>5.330500</td>\n",
       "    </tr>\n",
       "    <tr>\n",
       "      <th>6</th>\n",
       "      <td>#19ad51</td>\n",
       "      <td>Business Freedom</td>\n",
       "      <td>8.088333</td>\n",
       "    </tr>\n",
       "    <tr>\n",
       "      <th>7</th>\n",
       "      <td>#0d6999</td>\n",
       "      <td>Safety</td>\n",
       "      <td>6.246500</td>\n",
       "    </tr>\n",
       "    <tr>\n",
       "      <th>8</th>\n",
       "      <td>#051fa5</td>\n",
       "      <td>Healthcare</td>\n",
       "      <td>8.757000</td>\n",
       "    </tr>\n",
       "    <tr>\n",
       "      <th>9</th>\n",
       "      <td>#150e78</td>\n",
       "      <td>Education</td>\n",
       "      <td>7.085000</td>\n",
       "    </tr>\n",
       "    <tr>\n",
       "      <th>10</th>\n",
       "      <td>#3d14a4</td>\n",
       "      <td>Environmental Quality</td>\n",
       "      <td>4.362250</td>\n",
       "    </tr>\n",
       "    <tr>\n",
       "      <th>11</th>\n",
       "      <td>#5c14a1</td>\n",
       "      <td>Economy</td>\n",
       "      <td>4.204500</td>\n",
       "    </tr>\n",
       "    <tr>\n",
       "      <th>12</th>\n",
       "      <td>#88149f</td>\n",
       "      <td>Taxation</td>\n",
       "      <td>2.648000</td>\n",
       "    </tr>\n",
       "    <tr>\n",
       "      <th>13</th>\n",
       "      <td>#b9117d</td>\n",
       "      <td>Internet Access</td>\n",
       "      <td>9.716000</td>\n",
       "    </tr>\n",
       "    <tr>\n",
       "      <th>14</th>\n",
       "      <td>#d10d54</td>\n",
       "      <td>Leisure &amp; Culture</td>\n",
       "      <td>9.816500</td>\n",
       "    </tr>\n",
       "    <tr>\n",
       "      <th>15</th>\n",
       "      <td>#e70c26</td>\n",
       "      <td>Tolerance</td>\n",
       "      <td>5.579000</td>\n",
       "    </tr>\n",
       "    <tr>\n",
       "      <th>16</th>\n",
       "      <td>#f1351b</td>\n",
       "      <td>Outdoors</td>\n",
       "      <td>4.433000</td>\n",
       "    </tr>\n",
       "  </tbody>\n",
       "</table>\n",
       "</div>"
      ],
      "text/plain": [
       "      color                   name  score_out_of_10\n",
       "0   #f3c32c                Housing         3.583500\n",
       "1   #f3d630         Cost of Living         3.664000\n",
       "2   #f4eb33               Startups         9.276500\n",
       "3   #d2ed31        Venture Capital         7.513000\n",
       "4   #7adc29    Travel Connectivity        10.000000\n",
       "5   #36cc24                Commute         5.330500\n",
       "6   #19ad51       Business Freedom         8.088333\n",
       "7   #0d6999                 Safety         6.246500\n",
       "8   #051fa5             Healthcare         8.757000\n",
       "9   #150e78              Education         7.085000\n",
       "10  #3d14a4  Environmental Quality         4.362250\n",
       "11  #5c14a1                Economy         4.204500\n",
       "12  #88149f               Taxation         2.648000\n",
       "13  #b9117d        Internet Access         9.716000\n",
       "14  #d10d54      Leisure & Culture         9.816500\n",
       "15  #e70c26              Tolerance         5.579000\n",
       "16  #f1351b               Outdoors         4.433000"
      ]
     },
     "execution_count": 11,
     "metadata": {},
     "output_type": "execute_result"
    }
   ],
   "source": [
    "import pandas as pd \n",
    "paris_df = pd.DataFrame(paris_scores.json()[\"categories\"])\n",
    "paris_df"
   ]
  },
  {
   "cell_type": "code",
   "execution_count": 12,
   "metadata": {},
   "outputs": [],
   "source": [
    "paris_df['City']='Paris'"
   ]
  },
  {
   "cell_type": "code",
   "execution_count": 13,
   "metadata": {},
   "outputs": [
    {
     "data": {
      "text/html": [
       "<div>\n",
       "<style scoped>\n",
       "    .dataframe tbody tr th:only-of-type {\n",
       "        vertical-align: middle;\n",
       "    }\n",
       "\n",
       "    .dataframe tbody tr th {\n",
       "        vertical-align: top;\n",
       "    }\n",
       "\n",
       "    .dataframe thead th {\n",
       "        text-align: right;\n",
       "    }\n",
       "</style>\n",
       "<table border=\"1\" class=\"dataframe\">\n",
       "  <thead>\n",
       "    <tr style=\"text-align: right;\">\n",
       "      <th></th>\n",
       "      <th>color</th>\n",
       "      <th>name</th>\n",
       "      <th>score_out_of_10</th>\n",
       "      <th>City</th>\n",
       "    </tr>\n",
       "  </thead>\n",
       "  <tbody>\n",
       "    <tr>\n",
       "      <th>0</th>\n",
       "      <td>#f3c32c</td>\n",
       "      <td>Housing</td>\n",
       "      <td>3.583500</td>\n",
       "      <td>Paris</td>\n",
       "    </tr>\n",
       "    <tr>\n",
       "      <th>1</th>\n",
       "      <td>#f3d630</td>\n",
       "      <td>Cost of Living</td>\n",
       "      <td>3.664000</td>\n",
       "      <td>Paris</td>\n",
       "    </tr>\n",
       "    <tr>\n",
       "      <th>2</th>\n",
       "      <td>#f4eb33</td>\n",
       "      <td>Startups</td>\n",
       "      <td>9.276500</td>\n",
       "      <td>Paris</td>\n",
       "    </tr>\n",
       "    <tr>\n",
       "      <th>3</th>\n",
       "      <td>#d2ed31</td>\n",
       "      <td>Venture Capital</td>\n",
       "      <td>7.513000</td>\n",
       "      <td>Paris</td>\n",
       "    </tr>\n",
       "    <tr>\n",
       "      <th>4</th>\n",
       "      <td>#7adc29</td>\n",
       "      <td>Travel Connectivity</td>\n",
       "      <td>10.000000</td>\n",
       "      <td>Paris</td>\n",
       "    </tr>\n",
       "    <tr>\n",
       "      <th>5</th>\n",
       "      <td>#36cc24</td>\n",
       "      <td>Commute</td>\n",
       "      <td>5.330500</td>\n",
       "      <td>Paris</td>\n",
       "    </tr>\n",
       "    <tr>\n",
       "      <th>6</th>\n",
       "      <td>#19ad51</td>\n",
       "      <td>Business Freedom</td>\n",
       "      <td>8.088333</td>\n",
       "      <td>Paris</td>\n",
       "    </tr>\n",
       "    <tr>\n",
       "      <th>7</th>\n",
       "      <td>#0d6999</td>\n",
       "      <td>Safety</td>\n",
       "      <td>6.246500</td>\n",
       "      <td>Paris</td>\n",
       "    </tr>\n",
       "    <tr>\n",
       "      <th>8</th>\n",
       "      <td>#051fa5</td>\n",
       "      <td>Healthcare</td>\n",
       "      <td>8.757000</td>\n",
       "      <td>Paris</td>\n",
       "    </tr>\n",
       "    <tr>\n",
       "      <th>9</th>\n",
       "      <td>#150e78</td>\n",
       "      <td>Education</td>\n",
       "      <td>7.085000</td>\n",
       "      <td>Paris</td>\n",
       "    </tr>\n",
       "    <tr>\n",
       "      <th>10</th>\n",
       "      <td>#3d14a4</td>\n",
       "      <td>Environmental Quality</td>\n",
       "      <td>4.362250</td>\n",
       "      <td>Paris</td>\n",
       "    </tr>\n",
       "    <tr>\n",
       "      <th>11</th>\n",
       "      <td>#5c14a1</td>\n",
       "      <td>Economy</td>\n",
       "      <td>4.204500</td>\n",
       "      <td>Paris</td>\n",
       "    </tr>\n",
       "    <tr>\n",
       "      <th>12</th>\n",
       "      <td>#88149f</td>\n",
       "      <td>Taxation</td>\n",
       "      <td>2.648000</td>\n",
       "      <td>Paris</td>\n",
       "    </tr>\n",
       "    <tr>\n",
       "      <th>13</th>\n",
       "      <td>#b9117d</td>\n",
       "      <td>Internet Access</td>\n",
       "      <td>9.716000</td>\n",
       "      <td>Paris</td>\n",
       "    </tr>\n",
       "    <tr>\n",
       "      <th>14</th>\n",
       "      <td>#d10d54</td>\n",
       "      <td>Leisure &amp; Culture</td>\n",
       "      <td>9.816500</td>\n",
       "      <td>Paris</td>\n",
       "    </tr>\n",
       "    <tr>\n",
       "      <th>15</th>\n",
       "      <td>#e70c26</td>\n",
       "      <td>Tolerance</td>\n",
       "      <td>5.579000</td>\n",
       "      <td>Paris</td>\n",
       "    </tr>\n",
       "    <tr>\n",
       "      <th>16</th>\n",
       "      <td>#f1351b</td>\n",
       "      <td>Outdoors</td>\n",
       "      <td>4.433000</td>\n",
       "      <td>Paris</td>\n",
       "    </tr>\n",
       "  </tbody>\n",
       "</table>\n",
       "</div>"
      ],
      "text/plain": [
       "      color                   name  score_out_of_10   City\n",
       "0   #f3c32c                Housing         3.583500  Paris\n",
       "1   #f3d630         Cost of Living         3.664000  Paris\n",
       "2   #f4eb33               Startups         9.276500  Paris\n",
       "3   #d2ed31        Venture Capital         7.513000  Paris\n",
       "4   #7adc29    Travel Connectivity        10.000000  Paris\n",
       "5   #36cc24                Commute         5.330500  Paris\n",
       "6   #19ad51       Business Freedom         8.088333  Paris\n",
       "7   #0d6999                 Safety         6.246500  Paris\n",
       "8   #051fa5             Healthcare         8.757000  Paris\n",
       "9   #150e78              Education         7.085000  Paris\n",
       "10  #3d14a4  Environmental Quality         4.362250  Paris\n",
       "11  #5c14a1                Economy         4.204500  Paris\n",
       "12  #88149f               Taxation         2.648000  Paris\n",
       "13  #b9117d        Internet Access         9.716000  Paris\n",
       "14  #d10d54      Leisure & Culture         9.816500  Paris\n",
       "15  #e70c26              Tolerance         5.579000  Paris\n",
       "16  #f1351b               Outdoors         4.433000  Paris"
      ]
     },
     "execution_count": 13,
     "metadata": {},
     "output_type": "execute_result"
    }
   ],
   "source": [
    "paris_df"
   ]
  },
  {
   "cell_type": "markdown",
   "metadata": {
    "colab_type": "text",
    "id": "dojOEUeYJ3JD"
   },
   "source": [
    "* We now need to upload this DataFrame to S3 using [Boto3](https://boto3.amazonaws.com/v1/documentation/api/latest/reference/services/s3.html)"
   ]
  },
  {
   "cell_type": "code",
   "execution_count": 14,
   "metadata": {
    "tags": []
   },
   "outputs": [
    {
     "name": "stdout",
     "output_type": "stream",
     "text": [
      "Requirement already satisfied: boto3 in /opt/conda/lib/python3.8/site-packages (1.18.38)\n",
      "Requirement already satisfied: botocore<1.22.0,>=1.21.38 in /opt/conda/lib/python3.8/site-packages (from boto3) (1.21.38)\n",
      "Requirement already satisfied: jmespath<1.0.0,>=0.7.1 in /opt/conda/lib/python3.8/site-packages (from boto3) (0.10.0)\n",
      "Requirement already satisfied: s3transfer<0.6.0,>=0.5.0 in /opt/conda/lib/python3.8/site-packages (from boto3) (0.5.0)\n",
      "Requirement already satisfied: python-dateutil<3.0.0,>=2.1 in /opt/conda/lib/python3.8/site-packages (from botocore<1.22.0,>=1.21.38->boto3) (2.8.1)\n",
      "Requirement already satisfied: urllib3<1.27,>=1.25.4 in /opt/conda/lib/python3.8/site-packages (from botocore<1.22.0,>=1.21.38->boto3) (1.25.10)\n",
      "Requirement already satisfied: six>=1.5 in /opt/conda/lib/python3.8/site-packages (from python-dateutil<3.0.0,>=2.1->botocore<1.22.0,>=1.21.38->boto3) (1.15.0)\n"
     ]
    }
   ],
   "source": [
    "!pip install boto3"
   ]
  },
  {
   "cell_type": "code",
   "execution_count": 15,
   "metadata": {
    "colab": {},
    "colab_type": "code",
    "id": "fVnXNqpBx7wT"
   },
   "outputs": [],
   "source": [
    "# create generic session to my AWS\n",
    "\n",
    "import boto3\n",
    "\n",
    "ACCESS_KEY = \"**************************\"\n",
    "SECRET_KEY = \"******************************************\"\n",
    "\n",
    "session = boto3.Session(aws_access_key_id=ACCESS_KEY, \n",
    "                        aws_secret_access_key=SECRET_KEY)"
   ]
  },
  {
   "cell_type": "code",
   "execution_count": 16,
   "metadata": {
    "colab": {},
    "colab_type": "code",
    "id": "vBXRVTKD0uuf"
   },
   "outputs": [],
   "source": [
    "# access S3 as a resource\n",
    "s3 = session.resource(\"s3\")"
   ]
  },
  {
   "cell_type": "code",
   "execution_count": 17,
   "metadata": {
    "colab": {},
    "colab_type": "code",
    "id": "L_9qH2LP0zJF"
   },
   "outputs": [
    {
     "name": "stdout",
     "output_type": "stream",
     "text": [
      "Done------\n"
     ]
    }
   ],
   "source": [
    "\n",
    "\n",
    "BUCKET_NAME = \"scoring-cities-in-the-world-had\"\n",
    "\n",
    "my_bucket =s3.create_bucket(Bucket=BUCKET_NAME)\n",
    "print(\"Done------\")"
   ]
  },
  {
   "cell_type": "markdown",
   "metadata": {
    "colab_type": "text",
    "id": "ik8xbgY1KjEo"
   },
   "source": [
    "* Use `Pandas` to export your DataFrame as a csv file"
   ]
  },
  {
   "cell_type": "code",
   "execution_count": 18,
   "metadata": {
    "colab": {},
    "colab_type": "code",
    "id": "rzw4SThH1XJR"
   },
   "outputs": [],
   "source": [
    "csv = paris_df.to_csv()"
   ]
  },
  {
   "cell_type": "markdown",
   "metadata": {
    "colab_type": "text",
    "id": "ySj6lBOsKow5"
   },
   "source": [
    "* Use `put_object()` function to create an Object within the bucket you just created "
   ]
  },
  {
   "cell_type": "code",
   "execution_count": 19,
   "metadata": {
    "colab": {},
    "colab_type": "code",
    "id": "9VzDwONM2FGT"
   },
   "outputs": [],
   "source": [
    "put_object = my_bucket.put_object(Key=\"Paris-scoring.csv\", Body=csv)"
   ]
  },
  {
   "cell_type": "markdown",
   "metadata": {
    "colab_type": "text",
    "id": "mRTXpA0xKwry"
   },
   "source": [
    "## Get Data For Several Cities \n",
    " "
   ]
  },
  {
   "cell_type": "markdown",
   "metadata": {
    "colab_type": "text",
    "id": "1lQ_1FlxLijw"
   },
   "source": [
    "* To have a first list, we are going to scrap [this Wikipedia page](https://en.wikipedia.org/wiki/List_of_largest_cities) where there's a list of the world's largest cities.\n",
    "We will enrich this list with some other cities of interest."
   ]
  },
  {
   "cell_type": "code",
   "execution_count": 20,
   "metadata": {},
   "outputs": [
    {
     "name": "stdout",
     "output_type": "stream",
     "text": [
      "Requirement already satisfied: Scrapy in /opt/conda/lib/python3.8/site-packages (2.5.0)\n",
      "Requirement already satisfied: lxml>=3.5.0; platform_python_implementation == \"CPython\" in /opt/conda/lib/python3.8/site-packages (from Scrapy) (4.6.3)\n",
      "Requirement already satisfied: w3lib>=1.17.0 in /opt/conda/lib/python3.8/site-packages (from Scrapy) (1.22.0)\n",
      "Requirement already satisfied: parsel>=1.5.0 in /opt/conda/lib/python3.8/site-packages (from Scrapy) (1.6.0)\n",
      "Requirement already satisfied: cssselect>=0.9.1 in /opt/conda/lib/python3.8/site-packages (from Scrapy) (1.1.0)\n",
      "Requirement already satisfied: itemadapter>=0.1.0 in /opt/conda/lib/python3.8/site-packages (from Scrapy) (0.4.0)\n",
      "Requirement already satisfied: Twisted[http2]>=17.9.0 in /opt/conda/lib/python3.8/site-packages (from Scrapy) (21.7.0)\n",
      "Requirement already satisfied: itemloaders>=1.0.1 in /opt/conda/lib/python3.8/site-packages (from Scrapy) (1.0.4)\n",
      "Requirement already satisfied: queuelib>=1.4.2 in /opt/conda/lib/python3.8/site-packages (from Scrapy) (1.6.2)\n",
      "Requirement already satisfied: PyDispatcher>=2.0.5; platform_python_implementation == \"CPython\" in /opt/conda/lib/python3.8/site-packages (from Scrapy) (2.0.5)\n",
      "Requirement already satisfied: h2<4.0,>=3.0 in /opt/conda/lib/python3.8/site-packages (from Scrapy) (3.2.0)\n",
      "Requirement already satisfied: cryptography>=2.0 in /opt/conda/lib/python3.8/site-packages (from Scrapy) (3.1.1)\n",
      "Requirement already satisfied: pyOpenSSL>=16.2.0 in /opt/conda/lib/python3.8/site-packages (from Scrapy) (19.1.0)\n",
      "Requirement already satisfied: protego>=0.1.15 in /opt/conda/lib/python3.8/site-packages (from Scrapy) (0.1.16)\n",
      "Requirement already satisfied: zope.interface>=4.1.3 in /opt/conda/lib/python3.8/site-packages (from Scrapy) (5.4.0)\n",
      "Requirement already satisfied: service-identity>=16.0.0 in /opt/conda/lib/python3.8/site-packages (from Scrapy) (21.1.0)\n",
      "Requirement already satisfied: six>=1.4.1 in /opt/conda/lib/python3.8/site-packages (from w3lib>=1.17.0->Scrapy) (1.15.0)\n",
      "Requirement already satisfied: attrs>=19.2.0 in /opt/conda/lib/python3.8/site-packages (from Twisted[http2]>=17.9.0->Scrapy) (20.2.0)\n",
      "Requirement already satisfied: hyperlink>=17.1.1 in /opt/conda/lib/python3.8/site-packages (from Twisted[http2]>=17.9.0->Scrapy) (21.0.0)\n",
      "Requirement already satisfied: Automat>=0.8.0 in /opt/conda/lib/python3.8/site-packages (from Twisted[http2]>=17.9.0->Scrapy) (20.2.0)\n",
      "Requirement already satisfied: constantly>=15.1 in /opt/conda/lib/python3.8/site-packages (from Twisted[http2]>=17.9.0->Scrapy) (15.1.0)\n",
      "Requirement already satisfied: incremental>=21.3.0 in /opt/conda/lib/python3.8/site-packages (from Twisted[http2]>=17.9.0->Scrapy) (21.3.0)\n",
      "Requirement already satisfied: typing-extensions>=3.6.5 in /opt/conda/lib/python3.8/site-packages (from Twisted[http2]>=17.9.0->Scrapy) (3.7.4.2)\n",
      "Requirement already satisfied: priority<2.0,>=1.1.0; extra == \"http2\" in /opt/conda/lib/python3.8/site-packages (from Twisted[http2]>=17.9.0->Scrapy) (1.3.0)\n",
      "Requirement already satisfied: jmespath>=0.9.5 in /opt/conda/lib/python3.8/site-packages (from itemloaders>=1.0.1->Scrapy) (0.10.0)\n",
      "Requirement already satisfied: hyperframe<6,>=5.2.0 in /opt/conda/lib/python3.8/site-packages (from h2<4.0,>=3.0->Scrapy) (5.2.0)\n",
      "Requirement already satisfied: hpack<4,>=3.0 in /opt/conda/lib/python3.8/site-packages (from h2<4.0,>=3.0->Scrapy) (3.0.0)\n",
      "Requirement already satisfied: cffi!=1.11.3,>=1.8 in /opt/conda/lib/python3.8/site-packages (from cryptography>=2.0->Scrapy) (1.14.3)\n",
      "Requirement already satisfied: setuptools in /opt/conda/lib/python3.8/site-packages (from zope.interface>=4.1.3->Scrapy) (49.6.0.post20201009)\n",
      "Requirement already satisfied: pyasn1-modules in /opt/conda/lib/python3.8/site-packages (from service-identity>=16.0.0->Scrapy) (0.2.8)\n",
      "Requirement already satisfied: pyasn1 in /opt/conda/lib/python3.8/site-packages (from service-identity>=16.0.0->Scrapy) (0.4.8)\n",
      "Requirement already satisfied: idna>=2.5 in /opt/conda/lib/python3.8/site-packages (from hyperlink>=17.1.1->Twisted[http2]>=17.9.0->Scrapy) (2.10)\n",
      "Requirement already satisfied: pycparser in /opt/conda/lib/python3.8/site-packages (from cffi!=1.11.3,>=1.8->cryptography>=2.0->Scrapy) (2.20)\n"
     ]
    }
   ],
   "source": [
    "!pip install Scrapy"
   ]
  },
  {
   "cell_type": "code",
   "execution_count": 21,
   "metadata": {},
   "outputs": [],
   "source": [
    "import os\n",
    "import logging\n",
    "\n",
    "import scrapy\n",
    "from scrapy.crawler import CrawlerProcess"
   ]
  },
  {
   "cell_type": "code",
   "execution_count": 22,
   "metadata": {},
   "outputs": [],
   "source": [
    "class CityNamesSpider(scrapy.Spider):\n",
    "\n",
    "    name = \"citynames\"\n",
    "\n",
    "    start_urls = [\n",
    "        'https://en.wikipedia.org/wiki/List_of_largest_cities',\n",
    "    ]\n",
    "\n",
    "    def parse(self, response):\n",
    "        cities = response.css(\"tr\")\n",
    "        for city in cities[6:87]:\n",
    "            yield {\n",
    "                'city': city.css('a::text').get()\n",
    "            }"
   ]
  },
  {
   "cell_type": "code",
   "execution_count": 23,
   "metadata": {},
   "outputs": [
    {
     "name": "stderr",
     "output_type": "stream",
     "text": [
      "2021-09-09 13:34:04 [scrapy.utils.log] INFO: Scrapy 2.5.0 started (bot: scrapybot)\n",
      "2021-09-09 13:34:04 [scrapy.utils.log] INFO: Versions: lxml 4.6.3.0, libxml2 2.9.10, cssselect 1.1.0, parsel 1.6.0, w3lib 1.22.0, Twisted 21.7.0, Python 3.8.6 | packaged by conda-forge | (default, Oct  7 2020, 19:08:05) - [GCC 7.5.0], pyOpenSSL 19.1.0 (OpenSSL 1.1.1h  22 Sep 2020), cryptography 3.1.1, Platform Linux-5.4.109+-x86_64-with-glibc2.10\n",
      "2021-09-09 13:34:04 [scrapy.crawler] INFO: Overridden settings:\n",
      "{'LOG_LEVEL': 20,\n",
      " 'USER_AGENT': 'Mozilla/4.0 (compatible; MSIE 7.0; Windows NT 5.1)'}\n",
      "2021-09-09 13:34:04 [scrapy.extensions.telnet] INFO: Telnet Password: b4cfaec9d86c056b\n",
      "2021-09-09 13:34:04 [scrapy.middleware] INFO: Enabled extensions:\n",
      "['scrapy.extensions.corestats.CoreStats',\n",
      " 'scrapy.extensions.telnet.TelnetConsole',\n",
      " 'scrapy.extensions.memusage.MemoryUsage',\n",
      " 'scrapy.extensions.feedexport.FeedExporter',\n",
      " 'scrapy.extensions.logstats.LogStats']\n",
      "2021-09-09 13:34:04 [scrapy.middleware] INFO: Enabled downloader middlewares:\n",
      "['scrapy.downloadermiddlewares.httpauth.HttpAuthMiddleware',\n",
      " 'scrapy.downloadermiddlewares.downloadtimeout.DownloadTimeoutMiddleware',\n",
      " 'scrapy.downloadermiddlewares.defaultheaders.DefaultHeadersMiddleware',\n",
      " 'scrapy.downloadermiddlewares.useragent.UserAgentMiddleware',\n",
      " 'scrapy.downloadermiddlewares.retry.RetryMiddleware',\n",
      " 'scrapy.downloadermiddlewares.redirect.MetaRefreshMiddleware',\n",
      " 'scrapy.downloadermiddlewares.httpcompression.HttpCompressionMiddleware',\n",
      " 'scrapy.downloadermiddlewares.redirect.RedirectMiddleware',\n",
      " 'scrapy.downloadermiddlewares.cookies.CookiesMiddleware',\n",
      " 'scrapy.downloadermiddlewares.httpproxy.HttpProxyMiddleware',\n",
      " 'scrapy.downloadermiddlewares.stats.DownloaderStats']\n",
      "2021-09-09 13:34:04 [scrapy.middleware] INFO: Enabled spider middlewares:\n",
      "['scrapy.spidermiddlewares.httperror.HttpErrorMiddleware',\n",
      " 'scrapy.spidermiddlewares.offsite.OffsiteMiddleware',\n",
      " 'scrapy.spidermiddlewares.referer.RefererMiddleware',\n",
      " 'scrapy.spidermiddlewares.urllength.UrlLengthMiddleware',\n",
      " 'scrapy.spidermiddlewares.depth.DepthMiddleware']\n",
      "2021-09-09 13:34:04 [scrapy.middleware] INFO: Enabled item pipelines:\n",
      "[]\n",
      "2021-09-09 13:34:04 [scrapy.core.engine] INFO: Spider opened\n",
      "2021-09-09 13:34:04 [scrapy.extensions.logstats] INFO: Crawled 0 pages (at 0 pages/min), scraped 0 items (at 0 items/min)\n",
      "2021-09-09 13:34:04 [scrapy.extensions.telnet] INFO: Telnet console listening on 127.0.0.1:6023\n",
      "2021-09-09 13:34:04 [scrapy.core.engine] INFO: Closing spider (finished)\n",
      "2021-09-09 13:34:04 [scrapy.extensions.feedexport] INFO: Stored json feed (81 items) in: Scrapping_results/cities.json\n",
      "2021-09-09 13:34:04 [scrapy.statscollectors] INFO: Dumping Scrapy stats:\n",
      "{'downloader/request_bytes': 263,\n",
      " 'downloader/request_count': 1,\n",
      " 'downloader/request_method_count/GET': 1,\n",
      " 'downloader/response_bytes': 63307,\n",
      " 'downloader/response_count': 1,\n",
      " 'downloader/response_status_count/200': 1,\n",
      " 'elapsed_time_seconds': 0.22271,\n",
      " 'feedexport/success_count/FileFeedStorage': 1,\n",
      " 'finish_reason': 'finished',\n",
      " 'finish_time': datetime.datetime(2021, 9, 9, 13, 34, 4, 706512),\n",
      " 'httpcompression/response_bytes': 441968,\n",
      " 'httpcompression/response_count': 1,\n",
      " 'item_scraped_count': 81,\n",
      " 'log_count/INFO': 11,\n",
      " 'memusage/max': 133804032,\n",
      " 'memusage/startup': 133804032,\n",
      " 'response_received_count': 1,\n",
      " 'scheduler/dequeued': 1,\n",
      " 'scheduler/dequeued/memory': 1,\n",
      " 'scheduler/enqueued': 1,\n",
      " 'scheduler/enqueued/memory': 1,\n",
      " 'start_time': datetime.datetime(2021, 9, 9, 13, 34, 4, 483802)}\n",
      "2021-09-09 13:34:04 [scrapy.core.engine] INFO: Spider closed (finished)\n"
     ]
    }
   ],
   "source": [
    "filename = \"cities.json\"\n",
    "\n",
    "if filename in os.listdir('Scrapping_results/'):\n",
    "        os.remove('Scrapping_results/' + filename)\n",
    "\n",
    "process = CrawlerProcess(settings = {\n",
    "    'USER_AGENT': 'Mozilla/4.0 (compatible; MSIE 7.0; Windows NT 5.1)',\n",
    "    'LOG_LEVEL': logging.INFO,\n",
    "    \"FEEDS\": {\n",
    "        'Scrapping_results/' + filename : {\"format\": \"json\"},\n",
    "    }\n",
    "})\n",
    "\n",
    "process.crawl(CityNamesSpider)\n",
    "process.start()"
   ]
  },
  {
   "cell_type": "code",
   "execution_count": 24,
   "metadata": {},
   "outputs": [
    {
     "name": "stderr",
     "output_type": "stream",
     "text": [
      "2021-09-09 13:34:04 [numexpr.utils] INFO: NumExpr defaulting to 4 threads.\n"
     ]
    },
    {
     "data": {
      "text/html": [
       "<div>\n",
       "<style scoped>\n",
       "    .dataframe tbody tr th:only-of-type {\n",
       "        vertical-align: middle;\n",
       "    }\n",
       "\n",
       "    .dataframe tbody tr th {\n",
       "        vertical-align: top;\n",
       "    }\n",
       "\n",
       "    .dataframe thead th {\n",
       "        text-align: right;\n",
       "    }\n",
       "</style>\n",
       "<table border=\"1\" class=\"dataframe\">\n",
       "  <thead>\n",
       "    <tr style=\"text-align: right;\">\n",
       "      <th></th>\n",
       "      <th>city</th>\n",
       "    </tr>\n",
       "  </thead>\n",
       "  <tbody>\n",
       "    <tr>\n",
       "      <th>0</th>\n",
       "      <td>None</td>\n",
       "    </tr>\n",
       "    <tr>\n",
       "      <th>1</th>\n",
       "      <td>Tokyo</td>\n",
       "    </tr>\n",
       "    <tr>\n",
       "      <th>2</th>\n",
       "      <td>Delhi</td>\n",
       "    </tr>\n",
       "    <tr>\n",
       "      <th>3</th>\n",
       "      <td>Seoul</td>\n",
       "    </tr>\n",
       "    <tr>\n",
       "      <th>4</th>\n",
       "      <td>Shanghai</td>\n",
       "    </tr>\n",
       "  </tbody>\n",
       "</table>\n",
       "</div>"
      ],
      "text/plain": [
       "       city\n",
       "0      None\n",
       "1     Tokyo\n",
       "2     Delhi\n",
       "3     Seoul\n",
       "4  Shanghai"
      ]
     },
     "execution_count": 24,
     "metadata": {},
     "output_type": "execute_result"
    }
   ],
   "source": [
    "city_names = pd.read_json(\"Scrapping_results/cities.json\")\n",
    "city_names.head()"
   ]
  },
  {
   "cell_type": "code",
   "execution_count": 25,
   "metadata": {},
   "outputs": [
    {
     "data": {
      "text/html": [
       "<div>\n",
       "<style scoped>\n",
       "    .dataframe tbody tr th:only-of-type {\n",
       "        vertical-align: middle;\n",
       "    }\n",
       "\n",
       "    .dataframe tbody tr th {\n",
       "        vertical-align: top;\n",
       "    }\n",
       "\n",
       "    .dataframe thead th {\n",
       "        text-align: right;\n",
       "    }\n",
       "</style>\n",
       "<table border=\"1\" class=\"dataframe\">\n",
       "  <thead>\n",
       "    <tr style=\"text-align: right;\">\n",
       "      <th></th>\n",
       "      <th>city</th>\n",
       "    </tr>\n",
       "  </thead>\n",
       "  <tbody>\n",
       "    <tr>\n",
       "      <th>1</th>\n",
       "      <td>Tokyo</td>\n",
       "    </tr>\n",
       "    <tr>\n",
       "      <th>2</th>\n",
       "      <td>Delhi</td>\n",
       "    </tr>\n",
       "    <tr>\n",
       "      <th>3</th>\n",
       "      <td>Seoul</td>\n",
       "    </tr>\n",
       "    <tr>\n",
       "      <th>4</th>\n",
       "      <td>Shanghai</td>\n",
       "    </tr>\n",
       "    <tr>\n",
       "      <th>5</th>\n",
       "      <td>São Paulo</td>\n",
       "    </tr>\n",
       "  </tbody>\n",
       "</table>\n",
       "</div>"
      ],
      "text/plain": [
       "        city\n",
       "1      Tokyo\n",
       "2      Delhi\n",
       "3      Seoul\n",
       "4   Shanghai\n",
       "5  São Paulo"
      ]
     },
     "execution_count": 25,
     "metadata": {},
     "output_type": "execute_result"
    }
   ],
   "source": [
    "city_names = city_names.loc[1:,:]\n",
    "city_names.head()"
   ]
  },
  {
   "cell_type": "code",
   "execution_count": 26,
   "metadata": {},
   "outputs": [],
   "source": [
    "add_on = pd.DataFrame({'city' : ['Oslo', 'Stockholm', 'Montreal']})\n",
    "city_names = city_names.append(add_on)"
   ]
  },
  {
   "cell_type": "code",
   "execution_count": 27,
   "metadata": {},
   "outputs": [
    {
     "data": {
      "text/plain": [
       "(83, 1)"
      ]
     },
     "execution_count": 27,
     "metadata": {},
     "output_type": "execute_result"
    }
   ],
   "source": [
    "city_names.shape"
   ]
  },
  {
   "cell_type": "code",
   "execution_count": 28,
   "metadata": {},
   "outputs": [
    {
     "name": "stdout",
     "output_type": "stream",
     "text": [
      "Tokyo done\n",
      "Delhi done\n",
      "Seoul done\n",
      "Shanghai done\n",
      "São Paulo done\n",
      "Mexico City done\n",
      "Cairo done\n",
      "Mumbai done\n",
      "Beijing done\n",
      "Couldn't find results for Dhaka\n",
      "Osaka done\n",
      "New York done\n",
      "Couldn't find results for Karachi\n",
      "Buenos Aires done\n",
      "Couldn't find results for Chongqing\n",
      "Istanbul done\n",
      "Couldn't find results for Kolkata\n",
      "Manila done\n",
      "Lagos done\n",
      "Rio de Janeiro done\n",
      "Couldn't find results for Tianjin\n",
      "Couldn't find results for Kinshasa\n",
      "Guangzhou done\n",
      "Los Angeles done\n",
      "Moscow done\n",
      "Shenzhen done\n",
      "Couldn't find results for Lahore\n",
      "Bangalore done\n",
      "Paris done\n",
      "Bogotá done\n",
      "Jakarta done\n",
      "Chennai done\n",
      "Lima done\n",
      "Bangkok done\n",
      "Couldn't find results for Nagoya\n",
      "Hyderabad done\n",
      "London done\n",
      "Tehran done\n",
      "Chicago done\n",
      "Couldn't find results for Chengdu\n",
      "Couldn't find results for Nanjing\n",
      "Couldn't find results for Wuhan\n",
      "Ho Chi Minh City done\n",
      "Couldn't find results for Luanda\n",
      "Couldn't find results for Ahmedabad\n",
      "Kuala Lumpur done\n",
      "Couldn't find results for Xi'an\n",
      "Hong Kong done\n",
      "Dongguan done\n",
      "Hangzhou done\n",
      "Foshan done\n",
      "Couldn't find results for Shenyang\n",
      "Riyadh done\n",
      "Couldn't find results for Baghdad\n",
      "Santiago done\n",
      "Couldn't find results for Surat\n",
      "Madrid done\n",
      "Suzhou done\n",
      "Couldn't find results for Pune\n",
      "Couldn't find results for Harbin\n",
      "Houston done\n",
      "Dallas done\n",
      "Toronto done\n",
      "Dar es Salaam done\n",
      "Miami done\n",
      "Couldn't find results for Belo Horizonte\n",
      "Singapore done\n",
      "Philadelphia done\n",
      "Atlanta done\n",
      "Fukuoka done\n",
      "Couldn't find results for Khartoum\n",
      "Barcelona done\n",
      "Johannesburg done\n",
      "Saint Petersburg done\n",
      "Couldn't find results for Qingdao\n",
      "Couldn't find results for Dalian\n",
      "Washington, D.C. done\n",
      "Couldn't find results for Yangon\n",
      "Couldn't find results for Alexandria\n",
      "Couldn't find results for Jinan\n",
      "Oslo done\n",
      "Stockholm done\n",
      "Montreal done\n"
     ]
    }
   ],
   "source": [
    "# Loop that will go through each city, search for information and store it to the S3 bucket \n",
    "for city in city_names['city']:\n",
    "    try:\n",
    "        search_city = requests.get(\" https://api.teleport.org/api/cities/?search={}\".format(city))\n",
    "        first_result = search_city.json()[\"_embedded\"][\"city:search-results\"][0]\n",
    "        city_link = first_result[\"_links\"][\"city:item\"][\"href\"]\n",
    "        city_info = requests.get(city_link)\n",
    "        city_scores = requests.get(city_info.json()[\"_links\"][\"city:urban_area\"][\"href\"]+\"scores/\")\n",
    "        city_df = pd.DataFrame(city_scores.json()[\"categories\"])\n",
    "        city_df['City']='{}'.format(city)\n",
    "        csv = city_df.to_csv()\n",
    "        put_object = my_bucket.put_object(Key=\"{}-scoring.csv\".format(city), Body=csv)\n",
    "        print(\"{} done\".format(city))\n",
    "    except:\n",
    "        print(\"Couldn't find results for {}\".format(city))"
   ]
  },
  {
   "cell_type": "code",
   "execution_count": 29,
   "metadata": {
    "colab_type": "text",
    "id": "VpoUz9Z2NH0G"
   },
   "outputs": [
    {
     "name": "stdout",
     "output_type": "stream",
     "text": [
      "Atlanta-scoring.csv\n",
      "Bangalore-scoring.csv\n",
      "Bangkok-scoring.csv\n",
      "Barcelona-scoring.csv\n",
      "Beijing-scoring.csv\n",
      "Bogotá-scoring.csv\n",
      "Buenos Aires-scoring.csv\n",
      "Cairo-scoring.csv\n",
      "Chennai-scoring.csv\n",
      "Chicago-scoring.csv\n",
      "Dallas-scoring.csv\n",
      "Dar es Salaam-scoring.csv\n",
      "Delhi-scoring.csv\n",
      "Dongguan-scoring.csv\n",
      "Foshan-scoring.csv\n",
      "Fukuoka-scoring.csv\n",
      "Guangzhou-scoring.csv\n",
      "Hangzhou-scoring.csv\n",
      "Ho Chi Minh City-scoring.csv\n",
      "Hong Kong-scoring.csv\n",
      "Houston-scoring.csv\n",
      "Hyderabad-scoring.csv\n",
      "Istanbul-scoring.csv\n",
      "Jakarta-scoring.csv\n",
      "Johannesburg-scoring.csv\n",
      "Kuala Lumpur-scoring.csv\n",
      "Lagos-scoring.csv\n",
      "Lima-scoring.csv\n",
      "London-scoring.csv\n",
      "Los Angeles-scoring.csv\n",
      "Madrid-scoring.csv\n",
      "Manila-scoring.csv\n",
      "Mexico City-scoring.csv\n",
      "Miami-scoring.csv\n",
      "Montreal-scoring.csv\n",
      "Moscow-scoring.csv\n",
      "Mumbai-scoring.csv\n",
      "New York-scoring.csv\n",
      "Osaka-scoring.csv\n",
      "Oslo-scoring.csv\n",
      "Paris-scoring.csv\n",
      "Philadelphia-scoring.csv\n",
      "Rio de Janeiro-scoring.csv\n",
      "Riyadh-scoring.csv\n",
      "Saint Petersburg-scoring.csv\n",
      "Santiago-scoring.csv\n",
      "Seoul-scoring.csv\n",
      "Shanghai-scoring.csv\n",
      "Shenzhen-scoring.csv\n",
      "Singapore-scoring.csv\n",
      "Stockholm-scoring.csv\n",
      "Suzhou-scoring.csv\n",
      "São Paulo-scoring.csv\n",
      "Tehran-scoring.csv\n",
      "Tokyo-scoring.csv\n",
      "Toronto-scoring.csv\n",
      "Washington, D.C.-scoring.csv\n"
     ]
    }
   ],
   "source": [
    "# prints the contents of bucket\n",
    "for s3_file in s3.Bucket(BUCKET_NAME).objects.all():\n",
    "    print(s3_file.key) "
   ]
  },
  {
   "cell_type": "code",
   "execution_count": 30,
   "metadata": {},
   "outputs": [],
   "source": [
    "# To test one\n",
    "#s3.Bucket('BUCKET_NAME').download_file('OBJECT_NAME', 'FILE_NAME')\n",
    "#s3_file_key = 'Paris-scoring.csv'\n",
    "#s3.Bucket(BUCKET_NAME).download_file(s3_file_key, 'Paris-scoring.csv')"
   ]
  },
  {
   "cell_type": "code",
   "execution_count": 31,
   "metadata": {},
   "outputs": [
    {
     "data": {
      "text/html": [
       "<div>\n",
       "<style scoped>\n",
       "    .dataframe tbody tr th:only-of-type {\n",
       "        vertical-align: middle;\n",
       "    }\n",
       "\n",
       "    .dataframe tbody tr th {\n",
       "        vertical-align: top;\n",
       "    }\n",
       "\n",
       "    .dataframe thead th {\n",
       "        text-align: right;\n",
       "    }\n",
       "</style>\n",
       "<table border=\"1\" class=\"dataframe\">\n",
       "  <thead>\n",
       "    <tr style=\"text-align: right;\">\n",
       "      <th></th>\n",
       "      <th>color</th>\n",
       "      <th>name</th>\n",
       "      <th>score_out_of_10</th>\n",
       "      <th>City</th>\n",
       "    </tr>\n",
       "  </thead>\n",
       "  <tbody>\n",
       "  </tbody>\n",
       "</table>\n",
       "</div>"
      ],
      "text/plain": [
       "Empty DataFrame\n",
       "Columns: [color, name, score_out_of_10, City]\n",
       "Index: []"
      ]
     },
     "execution_count": 31,
     "metadata": {},
     "output_type": "execute_result"
    }
   ],
   "source": [
    "df = pd.DataFrame(columns = ['color', 'name' , 'score_out_of_10',  'city'])\n",
    "df"
   ]
  },
  {
   "cell_type": "code",
   "execution_count": 32,
   "metadata": {},
   "outputs": [],
   "source": [
    "# download all csv files in local repository\n",
    "for s3_file in s3.Bucket(BUCKET_NAME).objects.all():\n",
    "    s3.Bucket(BUCKET_NAME).download_file(s3_file.key, s3_file.key)\n",
    "    df = df.append(pd.read_csv(s3_file.key))"
   ]
  },
  {
   "cell_type": "code",
   "execution_count": 33,
   "metadata": {},
   "outputs": [],
   "source": [
    "df.drop(['color','Unnamed: 0'], axis = 1, inplace = True)"
   ]
  },
  {
   "cell_type": "code",
   "execution_count": 34,
   "metadata": {},
   "outputs": [
    {
     "data": {
      "text/html": [
       "<div>\n",
       "<style scoped>\n",
       "    .dataframe tbody tr th:only-of-type {\n",
       "        vertical-align: middle;\n",
       "    }\n",
       "\n",
       "    .dataframe tbody tr th {\n",
       "        vertical-align: top;\n",
       "    }\n",
       "\n",
       "    .dataframe thead th {\n",
       "        text-align: right;\n",
       "    }\n",
       "</style>\n",
       "<table border=\"1\" class=\"dataframe\">\n",
       "  <thead>\n",
       "    <tr style=\"text-align: right;\">\n",
       "      <th></th>\n",
       "      <th>name</th>\n",
       "      <th>score_out_of_10</th>\n",
       "      <th>City</th>\n",
       "    </tr>\n",
       "  </thead>\n",
       "  <tbody>\n",
       "    <tr>\n",
       "      <th>0</th>\n",
       "      <td>Housing</td>\n",
       "      <td>4.9755</td>\n",
       "      <td>Atlanta</td>\n",
       "    </tr>\n",
       "    <tr>\n",
       "      <th>1</th>\n",
       "      <td>Cost of Living</td>\n",
       "      <td>5.2410</td>\n",
       "      <td>Atlanta</td>\n",
       "    </tr>\n",
       "    <tr>\n",
       "      <th>2</th>\n",
       "      <td>Startups</td>\n",
       "      <td>8.8350</td>\n",
       "      <td>Atlanta</td>\n",
       "    </tr>\n",
       "    <tr>\n",
       "      <th>3</th>\n",
       "      <td>Venture Capital</td>\n",
       "      <td>7.2570</td>\n",
       "      <td>Atlanta</td>\n",
       "    </tr>\n",
       "    <tr>\n",
       "      <th>4</th>\n",
       "      <td>Travel Connectivity</td>\n",
       "      <td>5.2915</td>\n",
       "      <td>Atlanta</td>\n",
       "    </tr>\n",
       "  </tbody>\n",
       "</table>\n",
       "</div>"
      ],
      "text/plain": [
       "                  name  score_out_of_10     City\n",
       "0              Housing           4.9755  Atlanta\n",
       "1       Cost of Living           5.2410  Atlanta\n",
       "2             Startups           8.8350  Atlanta\n",
       "3      Venture Capital           7.2570  Atlanta\n",
       "4  Travel Connectivity           5.2915  Atlanta"
      ]
     },
     "execution_count": 34,
     "metadata": {},
     "output_type": "execute_result"
    }
   ],
   "source": [
    "df.head()"
   ]
  },
  {
   "cell_type": "code",
   "execution_count": 36,
   "metadata": {},
   "outputs": [
    {
     "data": {
      "text/html": [
       "<div>\n",
       "<style scoped>\n",
       "    .dataframe tbody tr th:only-of-type {\n",
       "        vertical-align: middle;\n",
       "    }\n",
       "\n",
       "    .dataframe tbody tr th {\n",
       "        vertical-align: top;\n",
       "    }\n",
       "\n",
       "    .dataframe thead th {\n",
       "        text-align: right;\n",
       "    }\n",
       "</style>\n",
       "<table border=\"1\" class=\"dataframe\">\n",
       "  <thead>\n",
       "    <tr style=\"text-align: right;\">\n",
       "      <th></th>\n",
       "      <th>score_out_of_10</th>\n",
       "    </tr>\n",
       "    <tr>\n",
       "      <th>City</th>\n",
       "      <th></th>\n",
       "    </tr>\n",
       "  </thead>\n",
       "  <tbody>\n",
       "    <tr>\n",
       "      <th>Stockholm</th>\n",
       "      <td>8.99175</td>\n",
       "    </tr>\n",
       "    <tr>\n",
       "      <th>Oslo</th>\n",
       "      <td>8.42425</td>\n",
       "    </tr>\n",
       "    <tr>\n",
       "      <th>Singapore</th>\n",
       "      <td>7.95425</td>\n",
       "    </tr>\n",
       "    <tr>\n",
       "      <th>Fukuoka</th>\n",
       "      <td>7.91600</td>\n",
       "    </tr>\n",
       "    <tr>\n",
       "      <th>Montreal</th>\n",
       "      <td>7.72150</td>\n",
       "    </tr>\n",
       "    <tr>\n",
       "      <th>Toronto</th>\n",
       "      <td>7.17750</td>\n",
       "    </tr>\n",
       "    <tr>\n",
       "      <th>Washington, D.C.</th>\n",
       "      <td>6.99375</td>\n",
       "    </tr>\n",
       "    <tr>\n",
       "      <th>Chicago</th>\n",
       "      <td>6.80450</td>\n",
       "    </tr>\n",
       "    <tr>\n",
       "      <th>Seoul</th>\n",
       "      <td>6.78700</td>\n",
       "    </tr>\n",
       "    <tr>\n",
       "      <th>Dallas</th>\n",
       "      <td>6.69300</td>\n",
       "    </tr>\n",
       "  </tbody>\n",
       "</table>\n",
       "</div>"
      ],
      "text/plain": [
       "                  score_out_of_10\n",
       "City                             \n",
       "Stockholm                 8.99175\n",
       "Oslo                      8.42425\n",
       "Singapore                 7.95425\n",
       "Fukuoka                   7.91600\n",
       "Montreal                  7.72150\n",
       "Toronto                   7.17750\n",
       "Washington, D.C.          6.99375\n",
       "Chicago                   6.80450\n",
       "Seoul                     6.78700\n",
       "Dallas                    6.69300"
      ]
     },
     "execution_count": 36,
     "metadata": {},
     "output_type": "execute_result"
    }
   ],
   "source": [
    "# environnment quality scoring per city\n",
    "health = df['name'] == 'Environmental Quality'\n",
    "df_health = df[health]\n",
    "df_health.groupby(['City']).mean().sort_values(by = 'score_out_of_10', ascending = False).head(10)"
   ]
  },
  {
   "cell_type": "code",
   "execution_count": 37,
   "metadata": {},
   "outputs": [
    {
     "data": {
      "text/html": [
       "<div>\n",
       "<style scoped>\n",
       "    .dataframe tbody tr th:only-of-type {\n",
       "        vertical-align: middle;\n",
       "    }\n",
       "\n",
       "    .dataframe tbody tr th {\n",
       "        vertical-align: top;\n",
       "    }\n",
       "\n",
       "    .dataframe thead th {\n",
       "        text-align: right;\n",
       "    }\n",
       "</style>\n",
       "<table border=\"1\" class=\"dataframe\">\n",
       "  <thead>\n",
       "    <tr style=\"text-align: right;\">\n",
       "      <th></th>\n",
       "      <th>score_out_of_10</th>\n",
       "    </tr>\n",
       "    <tr>\n",
       "      <th>City</th>\n",
       "      <th></th>\n",
       "    </tr>\n",
       "  </thead>\n",
       "  <tbody>\n",
       "    <tr>\n",
       "      <th>Singapore</th>\n",
       "      <td>7.145069</td>\n",
       "    </tr>\n",
       "    <tr>\n",
       "      <th>London</th>\n",
       "      <td>6.894015</td>\n",
       "    </tr>\n",
       "    <tr>\n",
       "      <th>Toronto</th>\n",
       "      <td>6.799284</td>\n",
       "    </tr>\n",
       "    <tr>\n",
       "      <th>Montreal</th>\n",
       "      <td>6.700363</td>\n",
       "    </tr>\n",
       "    <tr>\n",
       "      <th>New York</th>\n",
       "      <td>6.650098</td>\n",
       "    </tr>\n",
       "    <tr>\n",
       "      <th>Tokyo</th>\n",
       "      <td>6.572044</td>\n",
       "    </tr>\n",
       "    <tr>\n",
       "      <th>Paris</th>\n",
       "      <td>6.488446</td>\n",
       "    </tr>\n",
       "    <tr>\n",
       "      <th>Los Angeles</th>\n",
       "      <td>6.439755</td>\n",
       "    </tr>\n",
       "    <tr>\n",
       "      <th>Chicago</th>\n",
       "      <td>6.424485</td>\n",
       "    </tr>\n",
       "    <tr>\n",
       "      <th>Hong Kong</th>\n",
       "      <td>6.366725</td>\n",
       "    </tr>\n",
       "  </tbody>\n",
       "</table>\n",
       "</div>"
      ],
      "text/plain": [
       "             score_out_of_10\n",
       "City                        \n",
       "Singapore           7.145069\n",
       "London              6.894015\n",
       "Toronto             6.799284\n",
       "Montreal            6.700363\n",
       "New York            6.650098\n",
       "Tokyo               6.572044\n",
       "Paris               6.488446\n",
       "Los Angeles         6.439755\n",
       "Chicago             6.424485\n",
       "Hong Kong           6.366725"
      ]
     },
     "execution_count": 37,
     "metadata": {},
     "output_type": "execute_result"
    }
   ],
   "source": [
    "# total scoring per city\n",
    "group_city = df.groupby(['City']).mean()\n",
    "group_city.sort_values(['score_out_of_10'], ascending = False).head(10)"
   ]
  },
  {
   "cell_type": "markdown",
   "metadata": {},
   "source": [
    "### To do further analysis, the best is to use a Data Viz tool we just need the data in CSV format for example"
   ]
  },
  {
   "cell_type": "code",
   "execution_count": 38,
   "metadata": {},
   "outputs": [],
   "source": [
    "# to use for some data viz tool\n",
    "df.to_csv(\"dataviz.csv\", index=False)"
   ]
  },
  {
   "cell_type": "code",
   "execution_count": null,
   "metadata": {},
   "outputs": [],
   "source": []
  }
 ],
 "metadata": {
  "colab": {
   "collapsed_sections": [],
   "name": "6b. Solution - Get Cities of The World Quality of Life Data.ipynb",
   "provenance": []
  },
  "kernelspec": {
   "display_name": "Python 3",
   "language": "python",
   "name": "python3"
  },
  "language_info": {
   "codemirror_mode": {
    "name": "ipython",
    "version": 3
   },
   "file_extension": ".py",
   "mimetype": "text/x-python",
   "name": "python",
   "nbconvert_exporter": "python",
   "pygments_lexer": "ipython3",
   "version": "3.8.6"
  }
 },
 "nbformat": 4,
 "nbformat_minor": 4
}
